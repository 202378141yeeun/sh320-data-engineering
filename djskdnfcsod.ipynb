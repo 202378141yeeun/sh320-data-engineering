{
 "cells": [
  {
   "cell_type": "code",
   "execution_count": 9,
   "id": "03fd12a8",
   "metadata": {},
   "outputs": [
    {
     "name": "stdout",
     "output_type": "stream",
     "text": [
      "Average price is  31.875\n",
      "[25, 20, 35, 15, 15, 30, 45, 30]\n",
      "Total revenue is 1085\n",
      "Average daily revenue is 155.0\n",
      "['bouffant', 'pixie', 'crew', 'bowl']\n"
     ]
    }
   ],
   "source": [
    "#Carly's Clippers\n",
    "hairstyles = [\"bouffant\", \"pixie\", \"dreadlocks\", \"crew\", \"bowl\", \"bob\", \"mohawk\", \"flattop\"]\n",
    "prices = [30, 25, 40, 20, 20, 35, 50, 35]\n",
    "last_week = [2, 3, 5, 8, 4, 4, 6, 2]\n",
    "\n",
    "total_price = 0\n",
    "for price in prices:\n",
    "    total_price += price\n",
    "\n",
    "average_price = total_price / len(prices)\n",
    "print(\"Average price is \", average_price)\n",
    "\n",
    "new_prices = [price - 5 for price in prices]\n",
    "print(new_prices) \n",
    "\n",
    "total_revenue = 0\n",
    "for i in range(len(hairstyles)):\n",
    "    total_revenue += prices[i] * last_week[i]\n",
    "\n",
    "print(\"Total revenue is\", total_revenue)\n",
    "\n",
    "average_daily_revenue = total_revenue / 7\n",
    "print(\"Average daily revenue is\", average_daily_revenue) \n",
    "\n",
    "cuts_under_30 = [hairstyles[i] for i in range(len(new_prices)) if new_prices[i] < 30]\n",
    "print(cuts_under_30)\n"
   ]
  },
  {
   "cell_type": "code",
   "execution_count": 8,
   "id": "793228b5",
   "metadata": {},
   "outputs": [
    {
     "name": "stdout",
     "output_type": "stream",
     "text": [
      "당신의 조선시대 이름은 안칠걸 입니다.\n"
     ]
    }
   ],
   "source": [
    "#나의 조선시대 이름 찾기\n",
    "def get_my_chosun_name(family_name, month, day):\n",
    "  \n",
    "    first_syllables = ['쌍', '쇠', '복', '돌', '팽', '육', '쌍', '개', '칠', '갑', '삼', '방']  # 태어난 달에 해당하는 글자 리스트\n",
    "\n",
    "    second_syllables = [\n",
    "        '봉', '구', '욕', '포', '똥', '삼', '식', '석', '놈', '님',\n",
    "        '년', '돌', '단', '득', '방', '질', '장', '걸', '래', '룡',\n",
    "        '동', '순', '자', '박', '창', '언', '것', '포', '만', '단', '국'\n",
    "    # 태어난 날짜에 해당하는 글자 리스트\n",
    "    ]\n",
    "\n",
    "\n",
    "    first = first_syllables[month - 1]\n",
    "    second = second_syllables[day - 1]\n",
    "    chosun_name = family_name + first + second\n",
    "\n",
    "    return f\"당신의 조선시대 이름은 {chosun_name} 입니다.\"\n",
    "\n",
    "\n",
    "print(get_my_chosun_name('안', 9, 18))\n"
   ]
  },
  {
   "cell_type": "code",
   "execution_count": 7,
   "id": "8e749b3d",
   "metadata": {},
   "outputs": [
    {
     "name": "stdout",
     "output_type": "stream",
     "text": [
      "[['politics', 80], ['latin', 96], ['dance', 97], ['architecture', 65], ['physics', 98], ['calculus', 97], ['poetry', 'Pass'], ['history', 88], ['computer science', 100], ['visual arts', 98]]\n"
     ]
    }
   ],
   "source": [
    "#Gradebook\n",
    "subjects = [\"physics\", \"calculus\", \"poetry\", \"history\"]\n",
    "grades = [98, 97, 85, 88]\n",
    "\n",
    "gradebook = [\n",
    "    [\"physics\", 98],\n",
    "    [\"calculus\", 97],\n",
    "    [\"poetry\", 85],\n",
    "    [\"history\", 88]\n",
    "]\n",
    "\n",
    "gradebook.append([\"computer science\", 100])\n",
    "gradebook.append([\"visual arts\", 93])\n",
    "\n",
    "\n",
    "gradebook[-1][1] += 5  \n",
    "\n",
    "\n",
    "gradebook[2][1] = \"Pass\"\n",
    "\n",
    "last_semester_gradebook = [\n",
    "    [\"politics\", 80],\n",
    "    [\"latin\", 96],\n",
    "    [\"dance\", 97],\n",
    "    [\"architecture\", 65]\n",
    "]\n",
    "\n",
    "\n",
    "full_gradebook = last_semester_gradebook + gradebook\n",
    "\n",
    "print(full_gradebook)\n"
   ]
  },
  {
   "cell_type": "code",
   "execution_count": 6,
   "id": "214dc26b",
   "metadata": {},
   "outputs": [
    {
     "name": "stdout",
     "output_type": "stream",
     "text": [
      "Customer One Items:\n",
      "Lovely Loveseat. Tufted polyester blend on wood. 32 inches high x 40 inches wide x 30 inches deep. Available in red or white.\n",
      "Luxurious Lamp. Glass and iron. 36 inches tall. Brown with cream shade.\n",
      "\n",
      "Customer One Total:\n",
      "$333.09\n"
     ]
    }
   ],
   "source": [
    "#Receipts for Lovely Loveseats\n",
    "lovely_loveseat_description = \"Lovely Loveseat. Tufted polyester blend on wood. 32 inches high x 40 inches wide x 30 inches deep. Available in red or white.\"\n",
    "lovely_loveseat_price = 254.00\n",
    "\n",
    "stylish_settee_description = \"Stylish Settee. Faux leather on birch. 29.50 inches high x 54.75 inches wide x 28 inches deep. Available in black.\"\n",
    "stylish_settee_price = 180.50\n",
    "\n",
    "luxurious_lamp_description = \"Luxurious Lamp. Glass and iron. 36 inches tall. Brown with cream shade.\"\n",
    "luxurious_lamp_price = 52.15\n",
    "sales_tax = 0.088\n",
    "\n",
    "\n",
    "customer_one_total = 0\n",
    "customer_one_itemization = \"\"\n",
    "\n",
    "customer_one_total += lovely_loveseat_price\n",
    "customer_one_itemization += lovely_loveseat_description\n",
    "\n",
    "customer_one_total += luxurious_lamp_price\n",
    "customer_one_itemization += \"\\n\" + luxurious_lamp_description\n",
    "\n",
    "\n",
    "customer_one_tax = customer_one_total * sales_tax\n",
    "customer_one_total += customer_one_tax\n",
    "\n",
    "\n",
    "print(\"Customer One Items:\")\n",
    "print(customer_one_itemization)\n",
    "print()\n",
    "print(\"Customer One Total:\")\n",
    "print(f\"${customer_one_total:.2f}\")\n",
    "\n"
   ]
  }
 ],
 "metadata": {
  "kernelspec": {
   "display_name": "Python 3",
   "language": "python",
   "name": "python3"
  },
  "language_info": {
   "codemirror_mode": {
    "name": "ipython",
    "version": 3
   },
   "file_extension": ".py",
   "mimetype": "text/x-python",
   "name": "python",
   "nbconvert_exporter": "python",
   "pygments_lexer": "ipython3",
   "version": "3.13.2"
  }
 },
 "nbformat": 4,
 "nbformat_minor": 5
}
